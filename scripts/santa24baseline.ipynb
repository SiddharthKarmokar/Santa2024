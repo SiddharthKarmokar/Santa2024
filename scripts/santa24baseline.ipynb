{
 "metadata": {
  "kernelspec": {
   "language": "python",
   "display_name": "Python 3",
   "name": "python3"
  },
  "language_info": {
   "name": "python",
   "version": "3.10.14",
   "mimetype": "text/x-python",
   "codemirror_mode": {
    "name": "ipython",
    "version": 3
   },
   "pygments_lexer": "ipython3",
   "nbconvert_exporter": "python",
   "file_extension": ".py"
  },
  "kaggle": {
   "accelerator": "none",
   "dataSources": [
    {
     "sourceId": 88046,
     "databundleVersionId": 10229277,
     "sourceType": "competition"
    }
   ],
   "dockerImageVersionId": 30786,
   "isInternetEnabled": true,
   "language": "python",
   "sourceType": "notebook",
   "isGpuEnabled": false
  }
 },
 "nbformat_minor": 4,
 "nbformat": 4,
 "cells": [
  {
   "cell_type": "code",
   "source": "import pandas as pd",
   "metadata": {
    "trusted": true,
    "execution": {
     "iopub.status.busy": "2024-12-02T03:52:52.243411Z",
     "iopub.execute_input": "2024-12-02T03:52:52.243829Z",
     "iopub.status.idle": "2024-12-02T03:52:52.637873Z",
     "shell.execute_reply.started": "2024-12-02T03:52:52.243794Z",
     "shell.execute_reply": "2024-12-02T03:52:52.636767Z"
    },
    "ExecuteTime": {
     "end_time": "2024-12-02T04:09:15.620738Z",
     "start_time": "2024-12-02T04:09:14.765335Z"
    }
   },
   "outputs": [],
   "execution_count": 1
  },
  {
   "cell_type": "code",
   "source": "sample_submission = pd.read_csv(\"../santa-2024/sample_submission.csv\")",
   "metadata": {
    "trusted": true,
    "execution": {
     "iopub.status.busy": "2024-12-02T03:52:55.277794Z",
     "iopub.execute_input": "2024-12-02T03:52:55.278300Z",
     "iopub.status.idle": "2024-12-02T03:52:55.295373Z",
     "shell.execute_reply.started": "2024-12-02T03:52:55.278263Z",
     "shell.execute_reply": "2024-12-02T03:52:55.294260Z"
    },
    "ExecuteTime": {
     "end_time": "2024-12-02T04:09:17.194548Z",
     "start_time": "2024-12-02T04:09:17.168985Z"
    }
   },
   "outputs": [],
   "execution_count": 2
  },
  {
   "cell_type": "code",
   "source": [
    "sample_submission.to_csv(\"../submissions/baseline_submission.csv\", index=False)\n",
    "\n",
    "print(\"Submission file saved as baseline_submission.csv\")"
   ],
   "metadata": {
    "trusted": true,
    "execution": {
     "iopub.status.busy": "2024-12-02T03:53:53.931325Z",
     "iopub.execute_input": "2024-12-02T03:53:53.931712Z",
     "iopub.status.idle": "2024-12-02T03:53:53.941839Z",
     "shell.execute_reply.started": "2024-12-02T03:53:53.931680Z",
     "shell.execute_reply": "2024-12-02T03:53:53.940765Z"
    },
    "ExecuteTime": {
     "end_time": "2024-12-02T04:09:19.477285Z",
     "start_time": "2024-12-02T04:09:19.467086Z"
    }
   },
   "outputs": [
    {
     "name": "stdout",
     "output_type": "stream",
     "text": [
      "Submission file saved as baseline_submission.csv\n"
     ]
    }
   ],
   "execution_count": 3
  },
  {
   "metadata": {},
   "cell_type": "code",
   "outputs": [],
   "execution_count": null,
   "source": ""
  }
 ]
}
